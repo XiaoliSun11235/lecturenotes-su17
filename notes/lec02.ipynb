{
 "cells": [
  {
   "cell_type": "markdown",
   "metadata": {},
   "source": [
    "# Lecture 2: Cause and Effect"
   ]
  },
  {
   "cell_type": "markdown",
   "metadata": {},
   "source": [
    "## Causality and Really?\n",
    "\n",
    "0-2 mins\n",
    "\n",
    "- Causality sometimes easy to understand\n",
    "    - Eg. drop my phone and it breaks\n",
    "- But sometimes not\n",
    "    - Eg. broken phone -> girlfriend dumps me\n",
    "- Chocolate good for your heart?"
   ]
  },
  {
   "cell_type": "markdown",
   "metadata": {},
   "source": [
    "## Observation\n",
    "\n",
    "2-4 mins"
   ]
  },
  {
   "cell_type": "markdown",
   "metadata": {},
   "source": [
    "## The First Question\n",
    "\n",
    "4-7 mins"
   ]
  },
  {
   "cell_type": "markdown",
   "metadata": {},
   "source": [
    "## An Answer\n",
    "\n",
    "7-9 mins\n",
    "\n",
    "Is there any relation?\n",
    "\n",
    "- Talk to partner and then raise hands"
   ]
  },
  {
   "cell_type": "markdown",
   "metadata": {},
   "source": [
    "## The Next Question\n",
    "\n",
    "9-15 mins\n",
    "\n",
    "- This one is a bit harder.\n",
    "- Hard to say whether it was because of my phone breaking or whether she just thinks I'm too ugly\n",
    "\n",
    "\n",
    "- Data science as a term is quite new\n",
    "- But using data has been around for quite some time\n",
    "- London in the 1850's\n",
    "\n",
    "\n",
    "- Cholera comes in waves\n",
    "- No idea why it came, but it came and went"
   ]
  },
  {
   "cell_type": "markdown",
   "metadata": {},
   "source": [
    "## Miasmas\n",
    "\n",
    "15-17 mins\n",
    "\n",
    "- Diseases are caused by bad smells\n",
    "- Florence Nightingale was the founder of modern nursing and she believed it\n"
   ]
  },
  {
   "cell_type": "markdown",
   "metadata": {},
   "source": [
    "## John Snow\n",
    "\n",
    "17-20 mins\n",
    "\n",
    "- Did not believe miasma theory\n",
    "- Because in one house everyone died but in next door house no one would die\n",
    "- Thought bad water was cause\n",
    "\n",
    "\n",
    "- So he drew a map\n",
    "- Lots of deaths around Broad street pump\n",
    "- But some deaths not around, so he went around and asked where these people got their water from\n",
    "- Dead-end, so Broad street pump closer\n",
    "- Brewery had own well\n",
    "- Poorhouse (jail) had own well\n",
    "- Some deaths far away were children on the way to school\n",
    "- Hampstead is nicer area but one lady who died there, but didn't like the taste of water there and asked for Broad Street pump water\n",
    "\n",
    "\n",
    "- But only established association\n",
    "- Still, took off handle of pump\n",
    "- Iconic story, John Snow considered the father of epidemiology (how epidemics spread)\n",
    "- \"Where is the handle to this pump?\""
   ]
  },
  {
   "cell_type": "markdown",
   "metadata": {},
   "source": [
    "## Nowadays\n",
    "\n",
    "20-22 mins\n",
    "\n",
    "- Broad Street in London opened a bar named after John Snow\n",
    "- Pump without handle\n"
   ]
  },
  {
   "cell_type": "markdown",
   "metadata": {},
   "source": [
    "## London Water Supply Map\n",
    "\n",
    "22-25 mins\n",
    "\n",
    "- He knew he needed a comparison\n",
    "- Water supply map important in the area where both S&V and Lambeth were suppliers\n",
    "    - Because each house could have been either company, so we were able to say that overall the houses were the same except for which water company they got\n",
    "- Otherwise, if poor people got S&V and rich people got Lambeth you can't make the comparison\n"
   ]
  },
  {
   "cell_type": "markdown",
   "metadata": {},
   "source": [
    "## Snow's Grand \"Experiment\"\n",
    "\n",
    "25-30 mins\n",
    "\n",
    "- Discuss with neighbor what the table tells you\n",
    "\n",
    "\n",
    "- Why do you need Deaths per 10000? Hard to compare absolute numbers\n",
    "- His data were from a natural experiment"
   ]
  },
  {
   "cell_type": "markdown",
   "metadata": {},
   "source": [
    "## Key to Establishing Causality + Trouble\n",
    "\n",
    "30-35 mins\n",
    "\n",
    "- Sometimes all you have are observational data\n",
    "- Coffee and lung cancer\n",
    "- Those who drank coffee smoked more often\n",
    "- Smoking backed up by experiments, observations, and finally by biology\n"
   ]
  },
  {
   "cell_type": "markdown",
   "metadata": {},
   "source": [
    "## Randomize!\n",
    "\n",
    "35-40 mins\n",
    "\n",
    "- If you randomize, you can get rid of some confounding factors\n",
    "- Eg. rich vs. poor for John Snow\n",
    "- If you do randomization properly, you can account for variability in the assignment by using the laws of probability\n",
    "    - Which is why stats classes teach probability\n",
    "- Randomization doesn't help everything, eg. placebo effect"
   ]
  },
  {
   "cell_type": "markdown",
   "metadata": {},
   "source": [
    "## Careful...\n",
    "\n",
    "40-45 mins\n",
    "\n",
    "- Although dictionary says haphazard, randomization in this sense is not.\n",
    "- Story about lab mice @ Berkeley\n",
    "- Our mice were just heavier than everyone else's mice\n",
    "- Why? Someone just reached in and picked up a mouse\n",
    "    - If you are mouse, you run when you see a hand\n",
    "\n",
    "\n",
    "- By the end of this class, you will have all the tools necessary to perform proper randomization and analyze data to solve John Snow's problem\n"
   ]
  },
  {
   "cell_type": "code",
   "execution_count": null,
   "metadata": {
    "collapsed": true
   },
   "outputs": [],
   "source": []
  }
 ],
 "metadata": {
  "kernelspec": {
   "display_name": "Python [default]",
   "language": "python",
   "name": "python3"
  },
  "language_info": {
   "codemirror_mode": {
    "name": "ipython",
    "version": 3
   },
   "file_extension": ".py",
   "mimetype": "text/x-python",
   "name": "python",
   "nbconvert_exporter": "python",
   "pygments_lexer": "ipython3",
   "version": "3.5.2"
  }
 },
 "nbformat": 4,
 "nbformat_minor": 2
}
