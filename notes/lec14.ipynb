{
 "cells": [
  {
   "cell_type": "code",
   "execution_count": 5,
   "metadata": {},
   "outputs": [],
   "source": [
    "from datascience import *\n",
    "import numpy as np\n",
    "\n",
    "import matplotlib.pyplot as plots\n",
    "plots.style.use('fivethirtyeight')\n",
    "%matplotlib inline"
   ]
  },
  {
   "cell_type": "markdown",
   "metadata": {},
   "source": [
    "Don't forget to make font larger!"
   ]
  },
  {
   "cell_type": "markdown",
   "metadata": {},
   "source": [
    "## Conditional Statements"
   ]
  },
  {
   "cell_type": "code",
   "execution_count": 1,
   "metadata": {},
   "outputs": [
    {
     "name": "stdout",
     "output_type": "stream",
     "text": [
      "3 is positive\n",
      "-3 is negative\n",
      "0 is zero\n"
     ]
    }
   ],
   "source": [
    "def sign(x):\n",
    "    print(x, 'is', end=' ')\n",
    "    if x > 0:\n",
    "        print('positive')\n",
    "    if x < 0:\n",
    "        print('negative')\n",
    "    if x == 0:\n",
    "        print('zero')\n",
    "\n",
    "sign(3)\n",
    "sign(-3)\n",
    "sign(0)"
   ]
  },
  {
   "cell_type": "code",
   "execution_count": 2,
   "metadata": {},
   "outputs": [
    {
     "name": "stdout",
     "output_type": "stream",
     "text": [
      "3 is positive\n",
      "zero\n",
      "-3 is negative\n",
      "0 is zero\n"
     ]
    }
   ],
   "source": [
    "def sign(x):\n",
    "    print(x, 'is', end=' ')\n",
    "    if x > 0:\n",
    "        print('positive')\n",
    "    if x < 0:\n",
    "        print('negative')\n",
    "    else:\n",
    "        print('zero')\n",
    "\n",
    "sign(3)\n",
    "sign(-3)\n",
    "sign(0)"
   ]
  },
  {
   "cell_type": "code",
   "execution_count": 3,
   "metadata": {},
   "outputs": [
    {
     "name": "stdout",
     "output_type": "stream",
     "text": [
      "3 is positive\n",
      "-3 is negative\n",
      "0 is zero\n",
      "4.440892098500626e-16 is really close to zero\n"
     ]
    }
   ],
   "source": [
    "def sign(x):\n",
    "    print(x, 'is', end=' ')\n",
    "    if x > 1e-15:\n",
    "        print('positive')\n",
    "    elif x < -1e-15:\n",
    "        print('negative')\n",
    "    elif x == 0:\n",
    "        print('zero')\n",
    "    else:\n",
    "        print('really close to zero')\n",
    "\n",
    "sign(3)\n",
    "sign(-3)\n",
    "sign(0)\n",
    "sign(2**0.5 * 2 **0.5 - 2)"
   ]
  },
  {
   "cell_type": "markdown",
   "metadata": {},
   "source": [
    "## For Statements"
   ]
  },
  {
   "cell_type": "code",
   "execution_count": 6,
   "metadata": {},
   "outputs": [
    {
     "data": {
      "text/plain": [
       "array([1, 2, 3, 4])"
      ]
     },
     "execution_count": 6,
     "metadata": {},
     "output_type": "execute_result"
    }
   ],
   "source": [
    "np.append(make_array(1, 2, 3), 4)"
   ]
  },
  {
   "cell_type": "code",
   "execution_count": 7,
   "metadata": {},
   "outputs": [
    {
     "data": {
      "text/plain": [
       "array(['1', '2', '3', 'four'], \n",
       "      dtype='<U21')"
      ]
     },
     "execution_count": 7,
     "metadata": {},
     "output_type": "execute_result"
    }
   ],
   "source": [
    "np.append(make_array(1, 2, 3), 'four')"
   ]
  },
  {
   "cell_type": "code",
   "execution_count": 8,
   "metadata": {},
   "outputs": [
    {
     "data": {
      "text/plain": [
       "array([1, 2, 3, 4, 5, 6])"
      ]
     },
     "execution_count": 8,
     "metadata": {},
     "output_type": "execute_result"
    }
   ],
   "source": [
    "np.append(make_array(1, 2, 3), make_array(4, 5, 6))"
   ]
  },
  {
   "cell_type": "code",
   "execution_count": 9,
   "metadata": {},
   "outputs": [
    {
     "data": {
      "text/plain": [
       "array([0, 1, 2, 3])"
      ]
     },
     "execution_count": 9,
     "metadata": {},
     "output_type": "execute_result"
    }
   ],
   "source": [
    "np.arange(4)"
   ]
  },
  {
   "cell_type": "code",
   "execution_count": 10,
   "metadata": {},
   "outputs": [
    {
     "name": "stdout",
     "output_type": "stream",
     "text": [
      "iteration 0\n",
      "iteration 1\n",
      "iteration 2\n",
      "iteration 3\n"
     ]
    }
   ],
   "source": [
    "for i in np.arange(4):\n",
    "    print('iteration', i)"
   ]
  },
  {
   "cell_type": "code",
   "execution_count": 11,
   "metadata": {},
   "outputs": [
    {
     "data": {
      "text/plain": [
       "array(['tails', 'heads', 'tails', 'heads', 'tails'], \n",
       "      dtype='<U5')"
      ]
     },
     "execution_count": 11,
     "metadata": {},
     "output_type": "execute_result"
    }
   ],
   "source": [
    "coin = make_array('heads', 'tails')\n",
    "np.random.choice(coin, 5)"
   ]
  },
  {
   "cell_type": "code",
   "execution_count": 12,
   "metadata": {},
   "outputs": [
    {
     "data": {
      "text/plain": [
       "49"
      ]
     },
     "execution_count": 12,
     "metadata": {},
     "output_type": "execute_result"
    }
   ],
   "source": [
    "np.count_nonzero(np.random.choice(coin, 100) == 'heads')"
   ]
  },
  {
   "cell_type": "code",
   "execution_count": 13,
   "metadata": {
    "collapsed": true
   },
   "outputs": [],
   "source": [
    "num_heads = make_array()"
   ]
  },
  {
   "cell_type": "markdown",
   "metadata": {},
   "source": [
    "np.append doesn't change the original array"
   ]
  },
  {
   "cell_type": "code",
   "execution_count": 14,
   "metadata": {},
   "outputs": [
    {
     "data": {
      "text/plain": [
       "array([], dtype=float64)"
      ]
     },
     "execution_count": 14,
     "metadata": {},
     "output_type": "execute_result"
    }
   ],
   "source": [
    "np.append(num_heads, np.count_nonzero(np.random.choice(coin, 100) == 'heads'))\n",
    "num_heads"
   ]
  },
  {
   "cell_type": "code",
   "execution_count": 15,
   "metadata": {},
   "outputs": [
    {
     "data": {
      "text/plain": [
       "array([ 52.])"
      ]
     },
     "execution_count": 15,
     "metadata": {},
     "output_type": "execute_result"
    }
   ],
   "source": [
    "num_heads = np.append(num_heads, np.count_nonzero(np.random.choice(coin, 100) == 'heads'))\n",
    "num_heads"
   ]
  },
  {
   "cell_type": "code",
   "execution_count": 16,
   "metadata": {},
   "outputs": [
    {
     "data": {
      "text/plain": [
       "array([ 52.,  50.,  50., ...,  50.,  45.,  51.])"
      ]
     },
     "execution_count": 16,
     "metadata": {},
     "output_type": "execute_result"
    }
   ],
   "source": [
    "for i in np.arange(10000):\n",
    "    num_heads = np.append(num_heads, np.count_nonzero(np.random.choice(coin, 100) == 'heads'))\n",
    "num_heads"
   ]
  },
  {
   "cell_type": "code",
   "execution_count": 17,
   "metadata": {},
   "outputs": [
    {
     "data": {
      "text/plain": [
       "10001"
      ]
     },
     "execution_count": 17,
     "metadata": {},
     "output_type": "execute_result"
    }
   ],
   "source": [
    "len(num_heads)"
   ]
  },
  {
   "cell_type": "markdown",
   "metadata": {},
   "source": [
    "Discussion question: What do you think the plot will look like? What do think the minimum number of heads will be? The maximum?"
   ]
  },
  {
   "cell_type": "code",
   "execution_count": 18,
   "metadata": {},
   "outputs": [
    {
     "data": {
      "image/png": "[encoded data removed]",
      "text/plain": [
       "<matplotlib.figure.Figure at 0x1142db898>"
      ]
     },
     "metadata": {},
     "output_type": "display_data"
    }
   ],
   "source": [
    "t = Table().with_column('Heads in 100 coin flips', num_heads)\n",
    "t.hist(bins=np.arange(30, 70, 1))"
   ]
  },
  {
   "cell_type": "code",
   "execution_count": 19,
   "metadata": {},
   "outputs": [
    {
     "data": {
      "text/plain": [
       "32.0"
      ]
     },
     "execution_count": 19,
     "metadata": {},
     "output_type": "execute_result"
    }
   ],
   "source": [
    "t.column(0).min()"
   ]
  },
  {
   "cell_type": "code",
   "execution_count": 20,
   "metadata": {},
   "outputs": [
    {
     "data": {
      "text/plain": [
       "68.0"
      ]
     },
     "execution_count": 20,
     "metadata": {},
     "output_type": "execute_result"
    }
   ],
   "source": [
    "t.column(0).max()"
   ]
  },
  {
   "cell_type": "markdown",
   "metadata": {},
   "source": [
    "## Monty Hall"
   ]
  },
  {
   "cell_type": "markdown",
   "metadata": {},
   "source": [
    "Walk through how to construct this process."
   ]
  },
  {
   "cell_type": "code",
   "execution_count": 21,
   "metadata": {},
   "outputs": [
    {
     "data": {
      "text/plain": [
       "array([1, 2, 3])"
      ]
     },
     "execution_count": 21,
     "metadata": {},
     "output_type": "execute_result"
    }
   ],
   "source": [
    "doors = make_array(1, 2, 3)\n",
    "doors"
   ]
  },
  {
   "cell_type": "code",
   "execution_count": 22,
   "metadata": {},
   "outputs": [
    {
     "data": {
      "text/plain": [
       "array(['car', 'first goat', 'second goat'], \n",
       "      dtype='<U11')"
      ]
     },
     "execution_count": 22,
     "metadata": {},
     "output_type": "execute_result"
    }
   ],
   "source": [
    "prizes = make_array('car', 'first goat', 'second goat')\n",
    "prizes"
   ]
  },
  {
   "cell_type": "code",
   "execution_count": 23,
   "metadata": {},
   "outputs": [
    {
     "data": {
      "text/plain": [
       "array(['car', 'first goat', 'second goat'], \n",
       "      dtype='<U11')"
      ]
     },
     "execution_count": 23,
     "metadata": {},
     "output_type": "execute_result"
    }
   ],
   "source": [
    "np.random.choice(prizes, 3, replace=False)"
   ]
  },
  {
   "cell_type": "code",
   "execution_count": 24,
   "metadata": {},
   "outputs": [
    {
     "data": {
      "text/html": [
       "<table border=\"1\" class=\"dataframe\">\n",
       "    <thead>\n",
       "        <tr>\n",
       "            <th>Door</th> <th>Prize</th>\n",
       "        </tr>\n",
       "    </thead>\n",
       "    <tbody>\n",
       "        <tr>\n",
       "            <td>1   </td> <td>second goat</td>\n",
       "        </tr>\n",
       "    </tbody>\n",
       "        <tr>\n",
       "            <td>2   </td> <td>car        </td>\n",
       "        </tr>\n",
       "    </tbody>\n",
       "        <tr>\n",
       "            <td>3   </td> <td>first goat </td>\n",
       "        </tr>\n",
       "    </tbody>\n",
       "</table>"
      ],
      "text/plain": [
       "Door | Prize\n",
       "1    | second goat\n",
       "2    | car\n",
       "3    | first goat"
      ]
     },
     "execution_count": 24,
     "metadata": {},
     "output_type": "execute_result"
    }
   ],
   "source": [
    "def setup():\n",
    "    \"\"\"Return a random game of Let's Make a Deal.\"\"\"\n",
    "    return Table().with_columns(\n",
    "        'Door', doors,\n",
    "        'Prize', np.random.choice(prizes, 3, replace=False)\n",
    "    )\n",
    "\n",
    "a_game = setup()\n",
    "a_game"
   ]
  },
  {
   "cell_type": "markdown",
   "metadata": {},
   "source": [
    "Walk through how to write this slowly:"
   ]
  },
  {
   "cell_type": "markdown",
   "metadata": {},
   "source": [
    "**How would you define a function `behind` that takes in a game and a door number and prints out something like:**\n",
    "\n",
    "`Behind door number 1 is the second goat`"
   ]
  },
  {
   "cell_type": "code",
   "execution_count": 26,
   "metadata": {},
   "outputs": [
    {
     "name": "stdout",
     "output_type": "stream",
     "text": [
      "Behind door number 1 is the second goat\n",
      "Behind door number 2 is the car\n",
      "Behind door number 3 is the first goat\n"
     ]
    }
   ],
   "source": [
    "def behind(game, door):\n",
    "    \"\"\"Return the prize behind a door.\"\"\"\n",
    "    return game.where('Door', door).column('Prize').item(0)\n",
    "\n",
    "for door in doors:\n",
    "    print('Behind door number', door, 'is the', behind(a_game, door))"
   ]
  },
  {
   "cell_type": "code",
   "execution_count": 27,
   "metadata": {},
   "outputs": [
    {
     "name": "stdout",
     "output_type": "stream",
     "text": [
      "The car is behind door number 2\n",
      "The first goat is behind door number 3\n",
      "The second goat is behind door number 1\n"
     ]
    }
   ],
   "source": [
    "def location(game, prize):\n",
    "    \"\"\"Return the door that hides a prize.\"\"\"\n",
    "    return game.where('Prize', prize).column('Door').item(0)\n",
    "\n",
    "for prize in prizes:\n",
    "    print('The', prize, 'is behind door number', location(a_game, prize))"
   ]
  },
  {
   "cell_type": "code",
   "execution_count": 28,
   "metadata": {},
   "outputs": [
    {
     "data": {
      "text/plain": [
       "2"
      ]
     },
     "execution_count": 28,
     "metadata": {},
     "output_type": "execute_result"
    }
   ],
   "source": [
    "a_guess = np.random.choice(doors)\n",
    "a_guess"
   ]
  },
  {
   "cell_type": "markdown",
   "metadata": {},
   "source": [
    "**How would you write a function `expose` that takes in a game and a guessed door number and shows which door Monty Hall would open to expose a goat?**"
   ]
  },
  {
   "cell_type": "code",
   "execution_count": 29,
   "metadata": {},
   "outputs": [
    {
     "name": "stdout",
     "output_type": "stream",
     "text": [
      "The contestant picked door 2 which hides the car\n",
      "Monty Hall opens door 1 to expose the second goat\n"
     ]
    }
   ],
   "source": [
    "def expose(game, guess):\n",
    "    \"\"\"Return the door that Monty Hall opens to expose a goat.\"\"\"\n",
    "    guessed_prize = behind(game, guess)\n",
    "    if guessed_prize == 'first goat':\n",
    "        reveal = 'second goat'\n",
    "    elif guessed_prize == 'second goat':\n",
    "        reveal = 'first goat'\n",
    "    else:\n",
    "        reveal = np.random.choice(['first goat', 'second goat'])\n",
    "    return location(game, reveal)\n",
    "\n",
    "an_exposed_door = expose(a_game, a_guess)\n",
    "print('The contestant picked door', a_guess, 'which hides the', behind(a_game, a_guess))\n",
    "print('Monty Hall opens door', an_exposed_door, 'to expose the', behind(a_game, an_exposed_door))"
   ]
  },
  {
   "cell_type": "code",
   "execution_count": 30,
   "metadata": {},
   "outputs": [
    {
     "name": "stdout",
     "output_type": "stream",
     "text": [
      "The remaining door 3 hides the first goat\n"
     ]
    }
   ],
   "source": [
    "def other(game, guess, exposed):\n",
    "    \"\"\"Return the door that is not the guess or the exposed.\"\"\"\n",
    "    return (1 + 2 + 3) - guess - exposed\n",
    "\n",
    "the_remaining_door = other(a_game, a_guess, an_exposed_door)\n",
    "print('The remaining door', the_remaining_door, 'hides the', behind(a_game, the_remaining_door))"
   ]
  },
  {
   "cell_type": "code",
   "execution_count": 31,
   "metadata": {},
   "outputs": [
    {
     "data": {
      "text/html": [
       "<table border=\"1\" class=\"dataframe\">\n",
       "    <thead>\n",
       "        <tr>\n",
       "            <th>trial</th> <th>guess</th> <th>exposed</th> <th>remaining</th>\n",
       "        </tr>\n",
       "    </thead>\n",
       "    <tbody>\n",
       "        <tr>\n",
       "            <td>1    </td> <td>first goat </td> <td>second goat</td> <td>car        </td>\n",
       "        </tr>\n",
       "    </tbody>\n",
       "        <tr>\n",
       "            <td>2    </td> <td>first goat </td> <td>second goat</td> <td>car        </td>\n",
       "        </tr>\n",
       "    </tbody>\n",
       "        <tr>\n",
       "            <td>3    </td> <td>second goat</td> <td>first goat </td> <td>car        </td>\n",
       "        </tr>\n",
       "    </tbody>\n",
       "        <tr>\n",
       "            <td>4    </td> <td>second goat</td> <td>first goat </td> <td>car        </td>\n",
       "        </tr>\n",
       "    </tbody>\n",
       "        <tr>\n",
       "            <td>5    </td> <td>first goat </td> <td>second goat</td> <td>car        </td>\n",
       "        </tr>\n",
       "    </tbody>\n",
       "        <tr>\n",
       "            <td>6    </td> <td>second goat</td> <td>first goat </td> <td>car        </td>\n",
       "        </tr>\n",
       "    </tbody>\n",
       "        <tr>\n",
       "            <td>7    </td> <td>first goat </td> <td>second goat</td> <td>car        </td>\n",
       "        </tr>\n",
       "    </tbody>\n",
       "        <tr>\n",
       "            <td>8    </td> <td>car        </td> <td>first goat </td> <td>second goat</td>\n",
       "        </tr>\n",
       "    </tbody>\n",
       "        <tr>\n",
       "            <td>9    </td> <td>second goat</td> <td>first goat </td> <td>car        </td>\n",
       "        </tr>\n",
       "    </tbody>\n",
       "        <tr>\n",
       "            <td>10   </td> <td>car        </td> <td>first goat </td> <td>second goat</td>\n",
       "        </tr>\n",
       "    </tbody>\n",
       "</table>\n",
       "<p>... (9990 rows omitted)</p"
      ],
      "text/plain": [
       "trial | guess       | exposed     | remaining\n",
       "1     | first goat  | second goat | car\n",
       "2     | first goat  | second goat | car\n",
       "3     | second goat | first goat  | car\n",
       "4     | second goat | first goat  | car\n",
       "5     | first goat  | second goat | car\n",
       "6     | second goat | first goat  | car\n",
       "7     | first goat  | second goat | car\n",
       "8     | car         | first goat  | second goat\n",
       "9     | second goat | first goat  | car\n",
       "10    | car         | first goat  | second goat\n",
       "... (9990 rows omitted)"
      ]
     },
     "execution_count": 31,
     "metadata": {},
     "output_type": "execute_result"
    }
   ],
   "source": [
    "trials = Table(['trial', 'guess', 'exposed', 'remaining'])\n",
    "for i in np.arange(10000)+1:\n",
    "    game = setup()\n",
    "    guess = np.random.choice(doors)\n",
    "    exposed = expose(game, guess)\n",
    "    remaining = other(game, guess, exposed)\n",
    "    trials.append([i, behind(game, guess), behind(game, exposed), behind(game, remaining)])\n",
    "    \n",
    "trials"
   ]
  },
  {
   "cell_type": "code",
   "execution_count": 32,
   "metadata": {},
   "outputs": [
    {
     "data": {
      "text/html": [
       "<table border=\"1\" class=\"dataframe\">\n",
       "    <thead>\n",
       "        <tr>\n",
       "            <th>guess</th> <th>count</th>\n",
       "        </tr>\n",
       "    </thead>\n",
       "    <tbody>\n",
       "        <tr>\n",
       "            <td>car        </td> <td>3314 </td>\n",
       "        </tr>\n",
       "    </tbody>\n",
       "        <tr>\n",
       "            <td>first goat </td> <td>3349 </td>\n",
       "        </tr>\n",
       "    </tbody>\n",
       "        <tr>\n",
       "            <td>second goat</td> <td>3337 </td>\n",
       "        </tr>\n",
       "    </tbody>\n",
       "</table>"
      ],
      "text/plain": [
       "guess       | count\n",
       "car         | 3314\n",
       "first goat  | 3349\n",
       "second goat | 3337"
      ]
     },
     "execution_count": 32,
     "metadata": {},
     "output_type": "execute_result"
    }
   ],
   "source": [
    "trials.group('guess')"
   ]
  },
  {
   "cell_type": "code",
   "execution_count": 33,
   "metadata": {},
   "outputs": [
    {
     "data": {
      "text/html": [
       "<table border=\"1\" class=\"dataframe\">\n",
       "    <thead>\n",
       "        <tr>\n",
       "            <th>exposed</th> <th>count</th>\n",
       "        </tr>\n",
       "    </thead>\n",
       "    <tbody>\n",
       "        <tr>\n",
       "            <td>first goat </td> <td>4936 </td>\n",
       "        </tr>\n",
       "    </tbody>\n",
       "        <tr>\n",
       "            <td>second goat</td> <td>5064 </td>\n",
       "        </tr>\n",
       "    </tbody>\n",
       "</table>"
      ],
      "text/plain": [
       "exposed     | count\n",
       "first goat  | 4936\n",
       "second goat | 5064"
      ]
     },
     "execution_count": 33,
     "metadata": {},
     "output_type": "execute_result"
    }
   ],
   "source": [
    "trials.group('exposed')"
   ]
  },
  {
   "cell_type": "code",
   "execution_count": 34,
   "metadata": {},
   "outputs": [
    {
     "data": {
      "text/html": [
       "<table border=\"1\" class=\"dataframe\">\n",
       "    <thead>\n",
       "        <tr>\n",
       "            <th>remaining</th> <th>count</th>\n",
       "        </tr>\n",
       "    </thead>\n",
       "    <tbody>\n",
       "        <tr>\n",
       "            <td>car        </td> <td>6686 </td>\n",
       "        </tr>\n",
       "    </tbody>\n",
       "        <tr>\n",
       "            <td>first goat </td> <td>1715 </td>\n",
       "        </tr>\n",
       "    </tbody>\n",
       "        <tr>\n",
       "            <td>second goat</td> <td>1599 </td>\n",
       "        </tr>\n",
       "    </tbody>\n",
       "</table>"
      ],
      "text/plain": [
       "remaining   | count\n",
       "car         | 6686\n",
       "first goat  | 1715\n",
       "second goat | 1599"
      ]
     },
     "execution_count": 34,
     "metadata": {},
     "output_type": "execute_result"
    }
   ],
   "source": [
    "trials.group('remaining')"
   ]
  },
  {
   "cell_type": "code",
   "execution_count": 35,
   "metadata": {},
   "outputs": [
    {
     "data": {
      "image/png": "[encoded data removed]",
      "text/plain": [
       "<matplotlib.figure.Figure at 0x114552940>"
      ]
     },
     "metadata": {},
     "output_type": "display_data"
    }
   ],
   "source": [
    "compare = trials.group('guess').join('guess', trials.group('remaining'), 'remaining')\n",
    "compare.relabeled(0, 'Prize').relabeled(1, 'Guess Count').relabeled(2, 'Remaining Count').barh(0)"
   ]
  },
  {
   "cell_type": "markdown",
   "metadata": {},
   "source": [
    "## Probability"
   ]
  },
  {
   "cell_type": "markdown",
   "metadata": {},
   "source": [
    "#### Tickets\n",
    "\n",
    "Red Green Blue\n",
    "\n",
    "What's the chance of GR when sampling two cards without replacement\n",
    "\n",
    "RB RG BR BG GR GB\n",
    "\n",
    "P(GR) = 1/6\n",
    "\n",
    "P(one R and one G) = P(GR) + P(RG) = 1/6 + 1/6\n"
   ]
  },
  {
   "cell_type": "code",
   "execution_count": null,
   "metadata": {
    "collapsed": true
   },
   "outputs": [],
   "source": []
  }
 ],
 "metadata": {
  "kernelspec": {
   "display_name": "Python [default]",
   "language": "python",
   "name": "python3"
  },
  "language_info": {
   "codemirror_mode": {
    "name": "ipython",
    "version": 3
   },
   "file_extension": ".py",
   "mimetype": "text/x-python",
   "name": "python",
   "nbconvert_exporter": "python",
   "pygments_lexer": "ipython3",
   "version": "3.5.2"
  }
 },
 "nbformat": 4,
 "nbformat_minor": 2
}
