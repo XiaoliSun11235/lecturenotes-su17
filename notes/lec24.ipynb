{
 "cells": [
  {
   "cell_type": "code",
   "execution_count": 21,
   "metadata": {
    "collapsed": true
   },
   "outputs": [],
   "source": [
    "from datascience import *\n",
    "import numpy as np\n",
    "\n",
    "import matplotlib.pyplot as plt\n",
    "plt.style.use('fivethirtyeight')\n",
    "%matplotlib inline"
   ]
  },
  {
   "cell_type": "markdown",
   "metadata": {},
   "source": [
    "## Interval Estimates\n",
    "\n",
    "0-25 mins"
   ]
  },
  {
   "cell_type": "code",
   "execution_count": 22,
   "metadata": {
    "scrolled": true
   },
   "outputs": [
    {
     "data": {
      "text/html": [
       "<table border=\"1\" class=\"dataframe\">\n",
       "    <thead>\n",
       "        <tr>\n",
       "            <th>Organization Group</th> <th>Job</th> <th>Total Compensation</th>\n",
       "        </tr>\n",
       "    </thead>\n",
       "    <tbody>\n",
       "        <tr>\n",
       "            <td>Public Works, Transportation & Commerce</td> <td>Water Qualitytech I/II     </td> <td>117,767           </td>\n",
       "        </tr>\n",
       "    </tbody>\n",
       "        <tr>\n",
       "            <td>Public Works, Transportation & Commerce</td> <td>Soft Floor Coverer         </td> <td>41,210            </td>\n",
       "        </tr>\n",
       "    </tbody>\n",
       "        <tr>\n",
       "            <td>Community Health                       </td> <td>Health Care Billing Clerk 2</td> <td>110,561           </td>\n",
       "        </tr>\n",
       "    </tbody>\n",
       "</table>\n",
       "<p>... (38214 rows omitted)</p"
      ],
      "text/plain": [
       "<IPython.core.display.HTML object>"
      ]
     },
     "metadata": {},
     "output_type": "display_data"
    }
   ],
   "source": [
    "sf = Table.read_table('http://inferentialthinking.com/notebooks/san_francisco_2015.csv').select(3, 11, 21)\n",
    "sf.set_format(2, NumberFormatter(0))\n",
    "sf = sf.where(2, are.above(10000))\n",
    "sf.show(3)"
   ]
  },
  {
   "cell_type": "code",
   "execution_count": 23,
   "metadata": {},
   "outputs": [
    {
     "data": {
      "image/png": "[encoded data removed]",
      "text/plain": [
       "<matplotlib.figure.Figure at 0x104530470>"
      ]
     },
     "metadata": {},
     "output_type": "display_data"
    }
   ],
   "source": [
    "comp_bins = np.arange(0, 700000, 25000)\n",
    "sf.hist(2, bins=comp_bins)"
   ]
  },
  {
   "cell_type": "code",
   "execution_count": 24,
   "metadata": {},
   "outputs": [
    {
     "data": {
      "text/plain": [
       "107219.48"
      ]
     },
     "execution_count": 24,
     "metadata": {},
     "output_type": "execute_result"
    }
   ],
   "source": [
    "pop_median = np.median(sf.column(2))\n",
    "pop_median"
   ]
  },
  {
   "cell_type": "code",
   "execution_count": 25,
   "metadata": {
    "scrolled": true
   },
   "outputs": [
    {
     "data": {
      "image/png": "[encoded data removed]",
      "text/plain": [
       "<matplotlib.figure.Figure at 0x114db8780>"
      ]
     },
     "metadata": {},
     "output_type": "display_data"
    }
   ],
   "source": [
    "sample_from_population = sf.sample(500, with_replacement=False)\n",
    "\n",
    "resampled_medians = []\n",
    "for i in np.arange(1000):\n",
    "    resample = sample_from_population.sample()\n",
    "    median = np.median(resample.column(2))\n",
    "    resampled_medians.append(median)\n",
    "    \n",
    "interval_95 = [\n",
    "    percentile(2.5, resampled_medians),\n",
    "    percentile(97.5, resampled_medians)\n",
    "]\n",
    "\n",
    "Table().with_column('Resampled median', resampled_medians).hist(0)\n",
    "plt.plot(interval_95, [0, 0], color='gold', lw=8)\n",
    "pop_median = np.median(sf.column(2))\n",
    "plt.scatter(pop_median, 0, color='red', s=400);"
   ]
  },
  {
   "cell_type": "code",
   "execution_count": 26,
   "metadata": {
    "collapsed": true
   },
   "outputs": [],
   "source": [
    "def bootstrap_median(sample_from_population, label, repetitions):\n",
    "    resampled_medians = []\n",
    "    for i in np.arange(repetitions):\n",
    "        resample = sample_from_population.sample()\n",
    "        median = np.median(resample.column(label))\n",
    "        resampled_medians.append(median)\n",
    "    return resampled_medians"
   ]
  },
  {
   "cell_type": "code",
   "execution_count": null,
   "metadata": {},
   "outputs": [],
   "source": [
    "# THE BIG SIMULATION: This one takes several minutes.\n",
    "\n",
    "# Generate 100 intervals, in the table intervals\n",
    "\n",
    "left_ends = make_array()\n",
    "right_ends = make_array()\n",
    "\n",
    "total_comps = sf.select(2)\n",
    "for i in np.arange(100):\n",
    "    sample_from_pop = total_comps.sample(200, with_replacement=False)\n",
    "    medians = bootstrap_median(sample_from_pop, 'Total Compensation', 5000)\n",
    "    left_ends = np.append(left_ends, percentile(2.5, medians))\n",
    "    right_ends = np.append(right_ends, percentile(97.5, medians))\n",
    "    print('Iteration:', i)\n",
    "\n",
    "intervals = Table().with_columns(\n",
    "    'Left', left_ends,\n",
    "    'Right', right_ends\n",
    ")    "
   ]
  },
  {
   "cell_type": "code",
   "execution_count": 50,
   "metadata": {},
   "outputs": [
    {
     "data": {
      "text/html": [
       "<table border=\"1\" class=\"dataframe\">\n",
       "    <thead>\n",
       "        <tr>\n",
       "            <th>Left</th> <th>Right</th>\n",
       "        </tr>\n",
       "    </thead>\n",
       "    <tbody>\n",
       "        <tr>\n",
       "            <td>92751.2</td> <td>121147</td>\n",
       "        </tr>\n",
       "    </tbody>\n",
       "        <tr>\n",
       "            <td>100930 </td> <td>122886</td>\n",
       "        </tr>\n",
       "    </tbody>\n",
       "        <tr>\n",
       "            <td>99323.4</td> <td>120401</td>\n",
       "        </tr>\n",
       "    </tbody>\n",
       "</table>\n",
       "<p>... (97 rows omitted)</p"
      ],
      "text/plain": [
       "<IPython.core.display.HTML object>"
      ]
     },
     "metadata": {},
     "output_type": "display_data"
    }
   ],
   "source": [
    "intervals.show(3)"
   ]
  },
  {
   "cell_type": "code",
   "execution_count": 30,
   "metadata": {},
   "outputs": [
    {
     "data": {
      "text/plain": [
       "91"
      ]
     },
     "execution_count": 30,
     "metadata": {},
     "output_type": "execute_result"
    }
   ],
   "source": [
    "intervals.where('Left', are.below(pop_median)).where('Right', are.above(pop_median)).num_rows"
   ]
  },
  {
   "cell_type": "code",
   "execution_count": null,
   "metadata": {},
   "outputs": [],
   "source": [
    "replication_number = np.ndarray.astype(np.arange(1, 101), str)\n",
    "\n",
    "intervals2 = Table(replication_number).with_rows(make_array(left_ends, right_ends))\n",
    "\n",
    "plt.figure(figsize=(8,8))\n",
    "n=100\n",
    "for i in np.arange(n):\n",
    "    ends = intervals2.column(i)\n",
    "    plt.plot(ends, make_array(i+1, i+1), color='gold')\n",
    "plt.plot(make_array(pop_median, pop_median), make_array(0, n), color='red', lw=2)\n",
    "plt.xlabel('Median (dollars)')\n",
    "plt.ylabel('Replication')\n",
    "plt.title('Population Median and Intervals of Estimates');"
   ]
  },
  {
   "cell_type": "markdown",
   "metadata": {},
   "source": [
    "## Baby Weights\n",
    "\n",
    "25-45 mins"
   ]
  },
  {
   "cell_type": "markdown",
   "metadata": {},
   "source": [
    "An actual sample!\n",
    "\n",
    "Let's get an estimate of the birth weight : gestational days ratio."
   ]
  },
  {
   "cell_type": "code",
   "execution_count": 51,
   "metadata": {},
   "outputs": [
    {
     "data": {
      "text/html": [
       "<table border=\"1\" class=\"dataframe\">\n",
       "    <thead>\n",
       "        <tr>\n",
       "            <th>Birth Weight</th> <th>Gestational Days</th> <th>Maternal Age</th> <th>Maternal Height</th> <th>Maternal Pregnancy Weight</th> <th>Maternal Smoker</th>\n",
       "        </tr>\n",
       "    </thead>\n",
       "    <tbody>\n",
       "        <tr>\n",
       "            <td>120         </td> <td>284             </td> <td>27          </td> <td>62             </td> <td>100                      </td> <td>False          </td>\n",
       "        </tr>\n",
       "    </tbody>\n",
       "        <tr>\n",
       "            <td>113         </td> <td>282             </td> <td>33          </td> <td>64             </td> <td>135                      </td> <td>False          </td>\n",
       "        </tr>\n",
       "    </tbody>\n",
       "        <tr>\n",
       "            <td>128         </td> <td>279             </td> <td>28          </td> <td>64             </td> <td>115                      </td> <td>True           </td>\n",
       "        </tr>\n",
       "    </tbody>\n",
       "</table>\n",
       "<p>... (1171 rows omitted)</p"
      ],
      "text/plain": [
       "<IPython.core.display.HTML object>"
      ]
     },
     "metadata": {},
     "output_type": "display_data"
    }
   ],
   "source": [
    "births = Table.read_table('http://inferentialthinking.com/notebooks/baby.csv')\n",
    "births.show(3)"
   ]
  },
  {
   "cell_type": "code",
   "execution_count": 52,
   "metadata": {},
   "outputs": [
    {
     "data": {
      "text/html": [
       "<table border=\"1\" class=\"dataframe\">\n",
       "    <thead>\n",
       "        <tr>\n",
       "            <th>Birth Weight</th> <th>Gestational Days</th>\n",
       "        </tr>\n",
       "    </thead>\n",
       "    <tbody>\n",
       "        <tr>\n",
       "            <td>120         </td> <td>284             </td>\n",
       "        </tr>\n",
       "    </tbody>\n",
       "        <tr>\n",
       "            <td>113         </td> <td>282             </td>\n",
       "        </tr>\n",
       "    </tbody>\n",
       "        <tr>\n",
       "            <td>128         </td> <td>279             </td>\n",
       "        </tr>\n",
       "    </tbody>\n",
       "</table>\n",
       "<p>... (1171 rows omitted)</p"
      ],
      "text/plain": [
       "<IPython.core.display.HTML object>"
      ]
     },
     "metadata": {},
     "output_type": "display_data"
    }
   ],
   "source": [
    "babies = births.select('Birth Weight', 'Gestational Days')\n",
    "babies.show(3)"
   ]
  },
  {
   "cell_type": "code",
   "execution_count": 53,
   "metadata": {},
   "outputs": [
    {
     "data": {
      "text/html": [
       "<table border=\"1\" class=\"dataframe\">\n",
       "    <thead>\n",
       "        <tr>\n",
       "            <th>Birth Weight</th> <th>Gestational Days</th> <th>Ratio BW/GD</th>\n",
       "        </tr>\n",
       "    </thead>\n",
       "    <tbody>\n",
       "        <tr>\n",
       "            <td>120         </td> <td>284             </td> <td>0.422535   </td>\n",
       "        </tr>\n",
       "    </tbody>\n",
       "        <tr>\n",
       "            <td>113         </td> <td>282             </td> <td>0.400709   </td>\n",
       "        </tr>\n",
       "    </tbody>\n",
       "        <tr>\n",
       "            <td>128         </td> <td>279             </td> <td>0.458781   </td>\n",
       "        </tr>\n",
       "    </tbody>\n",
       "</table>\n",
       "<p>... (1171 rows omitted)</p"
      ],
      "text/plain": [
       "<IPython.core.display.HTML object>"
      ]
     },
     "metadata": {},
     "output_type": "display_data"
    }
   ],
   "source": [
    "ratios = babies.with_column(\n",
    "    'Ratio BW/GD', babies.column(0)/babies.column(1)\n",
    ")\n",
    "ratios.show(3)"
   ]
  },
  {
   "cell_type": "code",
   "execution_count": 34,
   "metadata": {},
   "outputs": [
    {
     "data": {
      "image/png": "[encoded data removed]",
      "text/plain": [
       "<matplotlib.figure.Figure at 0x114dc75c0>"
      ]
     },
     "metadata": {},
     "output_type": "display_data"
    }
   ],
   "source": [
    "ratios.hist(2)"
   ]
  },
  {
   "cell_type": "code",
   "execution_count": 35,
   "metadata": {},
   "outputs": [
    {
     "data": {
      "text/plain": [
       "0.42907801418439717"
      ]
     },
     "execution_count": 35,
     "metadata": {},
     "output_type": "execute_result"
    }
   ],
   "source": [
    "np.median(ratios.column(2))"
   ]
  },
  {
   "cell_type": "code",
   "execution_count": 40,
   "metadata": {
    "collapsed": true
   },
   "outputs": [],
   "source": [
    "resampled_medians = bootstrap_median(ratios, 2, 5000)"
   ]
  },
  {
   "cell_type": "code",
   "execution_count": 41,
   "metadata": {},
   "outputs": [
    {
     "name": "stdout",
     "output_type": "stream",
     "text": [
      "Approximate 95% Bootstrap Confidence Interval for the Population Median\n",
      "[ 0.4255  0.4327]\n"
     ]
    },
    {
     "data": {
      "image/png": "[encoded data removed]",
      "text/plain": [
       "<matplotlib.figure.Figure at 0x117e49f28>"
      ]
     },
     "metadata": {},
     "output_type": "display_data"
    }
   ],
   "source": [
    "interval_95 = make_array(\n",
    "    percentile(2.5, resampled_medians),\n",
    "    percentile(97.5, resampled_medians)\n",
    ")\n",
    "\n",
    "Table().with_column('Resampled median', resampled_medians).hist(0)\n",
    "plt.plot(interval_95, [0, 0], color='gold', lw=8)\n",
    "print('Approximate 95% Bootstrap Confidence Interval for the Population Median')\n",
    "print(np.round(interval_95, 4))"
   ]
  },
  {
   "cell_type": "code",
   "execution_count": null,
   "metadata": {},
   "outputs": [],
   "source": [
    "interval_80 = make_array(\n",
    "    percentile(10, resampled_medians),\n",
    "    percentile(90, resampled_medians)\n",
    ")\n",
    "\n",
    "Table().with_column('Resampled median', resampled_medians).hist(0)\n",
    "plt.plot(interval_80, [0, 0], color='gold', lw=8)\n",
    "print('Approximate 80% Bootstrap Confidence Interval for the Population Median')\n",
    "\n",
    "print(np.round(interval_80, 4))"
   ]
  },
  {
   "cell_type": "markdown",
   "metadata": {},
   "source": [
    "Take attendance\n",
    "\n",
    "What if we want to estimate the mean instead of the median?"
   ]
  },
  {
   "cell_type": "code",
   "execution_count": 43,
   "metadata": {
    "collapsed": true
   },
   "outputs": [],
   "source": [
    "def bootstrap_mean(sample_from_population, label, repetitions):\n",
    "    resampled_means = []\n",
    "    for i in np.arange(repetitions):\n",
    "        resample = sample_from_population.sample()\n",
    "        mean = np.mean(resample.column(label))\n",
    "        resampled_means.append(mean)\n",
    "    return resampled_means"
   ]
  },
  {
   "cell_type": "code",
   "execution_count": 44,
   "metadata": {
    "collapsed": true
   },
   "outputs": [],
   "source": [
    "def bootstrap_ci_mean(sample_from_population, label, repetitions):\n",
    "    resampled_means = bootstrap_mean(sample_from_population, label, repetitions)\n",
    "    \n",
    "    interval_95 = make_array(\n",
    "        percentile(2.5, resampled_means),\n",
    "        percentile(97.5, resampled_means)\n",
    "    )\n",
    "    \n",
    "    Table().with_column('Resampled mean', resampled_means).hist(0)\n",
    "    plt.plot(interval_95, [0, 0], color='gold', lw=8)\n",
    "    print('Approximate 95% Bootstrap Confidence Interval for Population Mean:')\n",
    "    print(np.round(interval_95, 3))"
   ]
  },
  {
   "cell_type": "code",
   "execution_count": 45,
   "metadata": {},
   "outputs": [
    {
     "name": "stdout",
     "output_type": "stream",
     "text": [
      "Approximate 95% Bootstrap Confidence Interval for Population Mean:\n",
      "[ 26.887  27.561]\n"
     ]
    },
    {
     "data": {
      "image/png": "[encoded data removed]",
      "text/plain": [
       "<matplotlib.figure.Figure at 0x114e30358>"
      ]
     },
     "metadata": {},
     "output_type": "display_data"
    }
   ],
   "source": [
    "bootstrap_ci_mean(births, 'Maternal Age', 5000)"
   ]
  },
  {
   "cell_type": "code",
   "execution_count": null,
   "metadata": {},
   "outputs": [],
   "source": [
    "bootstrap_ci_mean(births, 'Birth Weight', 5000)"
   ]
  },
  {
   "cell_type": "markdown",
   "metadata": {},
   "source": [
    "Discussion question"
   ]
  },
  {
   "cell_type": "code",
   "execution_count": null,
   "metadata": {},
   "outputs": [],
   "source": [
    "births.hist('Maternal Age')"
   ]
  },
  {
   "cell_type": "code",
   "execution_count": null,
   "metadata": {
    "collapsed": true
   },
   "outputs": [],
   "source": []
  }
 ],
 "metadata": {
  "anaconda-cloud": {},
  "kernelspec": {
   "display_name": "Python [default]",
   "language": "python",
   "name": "python3"
  },
  "language_info": {
   "codemirror_mode": {
    "name": "ipython",
    "version": 3
   },
   "file_extension": ".py",
   "mimetype": "text/x-python",
   "name": "python",
   "nbconvert_exporter": "python",
   "pygments_lexer": "ipython3",
   "version": "3.5.2"
  }
 },
 "nbformat": 4,
 "nbformat_minor": 2
}
