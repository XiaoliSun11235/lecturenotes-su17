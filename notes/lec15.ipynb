{
 "cells": [
  {
   "cell_type": "code",
   "execution_count": 1,
   "metadata": {
    "collapsed": true
   },
   "outputs": [],
   "source": [
    "from datascience import *\n",
    "import numpy as np\n",
    "\n",
    "import matplotlib.pyplot as plt\n",
    "plt.style.use('fivethirtyeight')\n",
    "%matplotlib inline"
   ]
  },
  {
   "cell_type": "markdown",
   "metadata": {},
   "source": [
    "## Monty Hall\n",
    "\n",
    "5-20 mins"
   ]
  },
  {
   "cell_type": "markdown",
   "metadata": {},
   "source": [
    "1. Put prizes behind doors randomly\n",
    "2. I pick a door\n",
    "3. Monty opens a door\n",
    "4. Reveal what was behind each door\n",
    "\n",
    "Understanding these steps is more important than understanding the code (although you should understand both)."
   ]
  },
  {
   "cell_type": "markdown",
   "metadata": {},
   "source": [
    "### Step 1: Set up game"
   ]
  },
  {
   "cell_type": "code",
   "execution_count": 2,
   "metadata": {},
   "outputs": [
    {
     "data": {
      "text/html": [
       "<table border=\"1\" class=\"dataframe\">\n",
       "    <thead>\n",
       "        <tr>\n",
       "            <th>Door</th> <th>Prize</th>\n",
       "        </tr>\n",
       "    </thead>\n",
       "    <tbody>\n",
       "        <tr>\n",
       "            <td>1   </td> <td>first goat </td>\n",
       "        </tr>\n",
       "    </tbody>\n",
       "        <tr>\n",
       "            <td>2   </td> <td>car        </td>\n",
       "        </tr>\n",
       "    </tbody>\n",
       "        <tr>\n",
       "            <td>3   </td> <td>second goat</td>\n",
       "        </tr>\n",
       "    </tbody>\n",
       "</table>"
      ],
      "text/plain": [
       "Door | Prize\n",
       "1    | first goat\n",
       "2    | car\n",
       "3    | second goat"
      ]
     },
     "execution_count": 2,
     "metadata": {},
     "output_type": "execute_result"
    }
   ],
   "source": [
    "doors = make_array(1, 2, 3)\n",
    "prizes = make_array('car', 'first goat', 'second goat')\n",
    "\n",
    "def setup():\n",
    "    \"\"\"Return a random game of Let's Make a Deal.\"\"\"\n",
    "    return Table().with_columns(\n",
    "        'Door', doors,\n",
    "        'Prize', np.random.choice(prizes, 3, replace=False)\n",
    "    )\n",
    "\n",
    "a_game = setup()\n",
    "a_game"
   ]
  },
  {
   "cell_type": "markdown",
   "metadata": {},
   "source": [
    "### Step 2: Pick a door"
   ]
  },
  {
   "cell_type": "code",
   "execution_count": 3,
   "metadata": {},
   "outputs": [
    {
     "data": {
      "text/plain": [
       "3"
      ]
     },
     "execution_count": 3,
     "metadata": {},
     "output_type": "execute_result"
    }
   ],
   "source": [
    "a_guess = np.random.choice(doors)\n",
    "a_guess"
   ]
  },
  {
   "cell_type": "markdown",
   "metadata": {},
   "source": [
    "### Step 3: Monty opens a door"
   ]
  },
  {
   "cell_type": "code",
   "execution_count": 4,
   "metadata": {},
   "outputs": [
    {
     "name": "stdout",
     "output_type": "stream",
     "text": [
      "Behind door number 1 is the first goat\n",
      "Behind door number 2 is the car\n",
      "Behind door number 3 is the second goat\n"
     ]
    }
   ],
   "source": [
    "def behind(game, door):\n",
    "    \"\"\"Return the prize behind a door.\"\"\"\n",
    "    return game.where('Door', door).column('Prize').item(0)\n",
    "\n",
    "for door in doors:\n",
    "    print('Behind door number', door, 'is the', behind(a_game, door))"
   ]
  },
  {
   "cell_type": "code",
   "execution_count": 5,
   "metadata": {},
   "outputs": [
    {
     "name": "stdout",
     "output_type": "stream",
     "text": [
      "The car is behind door number 2\n",
      "The first goat is behind door number 1\n",
      "The second goat is behind door number 3\n"
     ]
    }
   ],
   "source": [
    "def location(game, prize):\n",
    "    \"\"\"Return the door that hides a prize.\"\"\"\n",
    "    return game.where('Prize', prize).column('Door').item(0)\n",
    "\n",
    "for prize in prizes:\n",
    "    print('The', prize, 'is behind door number', location(a_game, prize))"
   ]
  },
  {
   "cell_type": "code",
   "execution_count": 6,
   "metadata": {},
   "outputs": [
    {
     "name": "stdout",
     "output_type": "stream",
     "text": [
      "The contestant picked door 3 which hides the second goat\n",
      "Monty Hall opens door 1 to expose the first goat\n"
     ]
    }
   ],
   "source": [
    "def expose(game, guess):\n",
    "    \"\"\"Return the door that Monty Hall opens to expose a goat.\"\"\"\n",
    "    guessed_prize = behind(game, guess)\n",
    "    if guessed_prize == 'first goat':\n",
    "        reveal = 'second goat'\n",
    "    elif guessed_prize == 'second goat':\n",
    "        reveal = 'first goat'\n",
    "    else:\n",
    "        reveal = np.random.choice(['first goat', 'second goat'])\n",
    "    return location(game, reveal)\n",
    "\n",
    "an_exposed_door = expose(a_game, a_guess)\n",
    "print('The contestant picked door', a_guess, 'which hides the', behind(a_game, a_guess))\n",
    "print('Monty Hall opens door', an_exposed_door, 'to expose the', behind(a_game, an_exposed_door))"
   ]
  },
  {
   "cell_type": "code",
   "execution_count": 7,
   "metadata": {},
   "outputs": [
    {
     "name": "stdout",
     "output_type": "stream",
     "text": [
      "The remaining door 2 hides the car\n"
     ]
    }
   ],
   "source": [
    "def other(game, guess, exposed):\n",
    "    \"\"\"Return the door that is not the guess or the exposed.\"\"\"\n",
    "    return (1 + 2 + 3) - guess - exposed\n",
    "\n",
    "the_remaining_door = other(a_game, a_guess, an_exposed_door)\n",
    "print('The remaining door', the_remaining_door, 'hides the', behind(a_game, the_remaining_door))"
   ]
  },
  {
   "cell_type": "markdown",
   "metadata": {},
   "source": [
    "### Step 4: See what happened, Repeat"
   ]
  },
  {
   "cell_type": "markdown",
   "metadata": {},
   "source": [
    "**Let's simulate one game of the Monty Hall Problem. Create a list where the first element is the prize behind the first guess, the second is the prize behind Monty's exposed door, and the third is the prize behind the remaining door.**"
   ]
  },
  {
   "cell_type": "code",
   "execution_count": 9,
   "metadata": {},
   "outputs": [
    {
     "data": {
      "text/plain": [
       "['second goat', 'first goat', 'car']"
      ]
     },
     "execution_count": 9,
     "metadata": {},
     "output_type": "execute_result"
    }
   ],
   "source": [
    "[behind(a_game, a_guess),\n",
    " behind(a_game, an_exposed_door),\n",
    " behind(a_game, other(a_game, a_guess, an_exposed_door))]"
   ]
  },
  {
   "cell_type": "code",
   "execution_count": 13,
   "metadata": {
    "scrolled": true
   },
   "outputs": [
    {
     "data": {
      "text/html": [
       "<table border=\"1\" class=\"dataframe\">\n",
       "    <thead>\n",
       "        <tr>\n",
       "            <th>trial</th> <th>guess</th> <th>exposed</th> <th>remaining</th>\n",
       "        </tr>\n",
       "    </thead>\n",
       "    <tbody>\n",
       "        <tr>\n",
       "            <td>1    </td> <td>first goat </td> <td>second goat</td> <td>car        </td>\n",
       "        </tr>\n",
       "    </tbody>\n",
       "        <tr>\n",
       "            <td>2    </td> <td>car        </td> <td>second goat</td> <td>first goat </td>\n",
       "        </tr>\n",
       "    </tbody>\n",
       "        <tr>\n",
       "            <td>3    </td> <td>second goat</td> <td>first goat </td> <td>car        </td>\n",
       "        </tr>\n",
       "    </tbody>\n",
       "        <tr>\n",
       "            <td>4    </td> <td>car        </td> <td>second goat</td> <td>first goat </td>\n",
       "        </tr>\n",
       "    </tbody>\n",
       "        <tr>\n",
       "            <td>5    </td> <td>second goat</td> <td>first goat </td> <td>car        </td>\n",
       "        </tr>\n",
       "    </tbody>\n",
       "        <tr>\n",
       "            <td>6    </td> <td>car        </td> <td>second goat</td> <td>first goat </td>\n",
       "        </tr>\n",
       "    </tbody>\n",
       "        <tr>\n",
       "            <td>7    </td> <td>second goat</td> <td>first goat </td> <td>car        </td>\n",
       "        </tr>\n",
       "    </tbody>\n",
       "        <tr>\n",
       "            <td>8    </td> <td>car        </td> <td>first goat </td> <td>second goat</td>\n",
       "        </tr>\n",
       "    </tbody>\n",
       "        <tr>\n",
       "            <td>9    </td> <td>car        </td> <td>first goat </td> <td>second goat</td>\n",
       "        </tr>\n",
       "    </tbody>\n",
       "        <tr>\n",
       "            <td>10   </td> <td>first goat </td> <td>second goat</td> <td>car        </td>\n",
       "        </tr>\n",
       "    </tbody>\n",
       "</table>\n",
       "<p>... (9990 rows omitted)</p"
      ],
      "text/plain": [
       "trial | guess       | exposed     | remaining\n",
       "1     | first goat  | second goat | car\n",
       "2     | car         | second goat | first goat\n",
       "3     | second goat | first goat  | car\n",
       "4     | car         | second goat | first goat\n",
       "5     | second goat | first goat  | car\n",
       "6     | car         | second goat | first goat\n",
       "7     | second goat | first goat  | car\n",
       "8     | car         | first goat  | second goat\n",
       "9     | car         | first goat  | second goat\n",
       "10    | first goat  | second goat | car\n",
       "... (9990 rows omitted)"
      ]
     },
     "execution_count": 13,
     "metadata": {},
     "output_type": "execute_result"
    }
   ],
   "source": [
    "trials = Table(['trial', 'guess', 'exposed', 'remaining'])\n",
    "for i in np.arange(10000)+1:\n",
    "    game = setup()\n",
    "    guess = np.random.choice(doors)\n",
    "    exposed = expose(game, guess)\n",
    "    remaining = other(game, guess, exposed)\n",
    "    trials.append([i, behind(game, guess), behind(game, exposed), behind(game, remaining)])\n",
    "    \n",
    "trials"
   ]
  },
  {
   "cell_type": "code",
   "execution_count": 14,
   "metadata": {
    "scrolled": true
   },
   "outputs": [
    {
     "data": {
      "text/html": [
       "<table border=\"1\" class=\"dataframe\">\n",
       "    <thead>\n",
       "        <tr>\n",
       "            <th>guess</th> <th>count</th>\n",
       "        </tr>\n",
       "    </thead>\n",
       "    <tbody>\n",
       "        <tr>\n",
       "            <td>car        </td> <td>3315 </td>\n",
       "        </tr>\n",
       "    </tbody>\n",
       "        <tr>\n",
       "            <td>first goat </td> <td>3366 </td>\n",
       "        </tr>\n",
       "    </tbody>\n",
       "        <tr>\n",
       "            <td>second goat</td> <td>3319 </td>\n",
       "        </tr>\n",
       "    </tbody>\n",
       "</table>"
      ],
      "text/plain": [
       "guess       | count\n",
       "car         | 3315\n",
       "first goat  | 3366\n",
       "second goat | 3319"
      ]
     },
     "execution_count": 14,
     "metadata": {},
     "output_type": "execute_result"
    }
   ],
   "source": [
    "trials.group('guess')"
   ]
  },
  {
   "cell_type": "code",
   "execution_count": 15,
   "metadata": {},
   "outputs": [
    {
     "data": {
      "text/html": [
       "<table border=\"1\" class=\"dataframe\">\n",
       "    <thead>\n",
       "        <tr>\n",
       "            <th>exposed</th> <th>count</th>\n",
       "        </tr>\n",
       "    </thead>\n",
       "    <tbody>\n",
       "        <tr>\n",
       "            <td>first goat </td> <td>4977 </td>\n",
       "        </tr>\n",
       "    </tbody>\n",
       "        <tr>\n",
       "            <td>second goat</td> <td>5023 </td>\n",
       "        </tr>\n",
       "    </tbody>\n",
       "</table>"
      ],
      "text/plain": [
       "exposed     | count\n",
       "first goat  | 4977\n",
       "second goat | 5023"
      ]
     },
     "execution_count": 15,
     "metadata": {},
     "output_type": "execute_result"
    }
   ],
   "source": [
    "trials.group('exposed')"
   ]
  },
  {
   "cell_type": "code",
   "execution_count": 16,
   "metadata": {},
   "outputs": [
    {
     "data": {
      "text/html": [
       "<table border=\"1\" class=\"dataframe\">\n",
       "    <thead>\n",
       "        <tr>\n",
       "            <th>remaining</th> <th>count</th>\n",
       "        </tr>\n",
       "    </thead>\n",
       "    <tbody>\n",
       "        <tr>\n",
       "            <td>car        </td> <td>6685 </td>\n",
       "        </tr>\n",
       "    </tbody>\n",
       "        <tr>\n",
       "            <td>first goat </td> <td>1657 </td>\n",
       "        </tr>\n",
       "    </tbody>\n",
       "        <tr>\n",
       "            <td>second goat</td> <td>1658 </td>\n",
       "        </tr>\n",
       "    </tbody>\n",
       "</table>"
      ],
      "text/plain": [
       "remaining   | count\n",
       "car         | 6685\n",
       "first goat  | 1657\n",
       "second goat | 1658"
      ]
     },
     "execution_count": 16,
     "metadata": {},
     "output_type": "execute_result"
    }
   ],
   "source": [
    "trials.group('remaining')"
   ]
  },
  {
   "cell_type": "code",
   "execution_count": 17,
   "metadata": {},
   "outputs": [
    {
     "data": {
      "image/png": "[encoded data removed]",
      "text/plain": [
       "<matplotlib.figure.Figure at 0x1147bb828>"
      ]
     },
     "metadata": {},
     "output_type": "display_data"
    }
   ],
   "source": [
    "compare = trials.group('guess').join('guess', trials.group('remaining'), 'remaining')\n",
    "compare.relabeled(0, 'Prize').relabeled(1, 'Guess Count').relabeled(2, 'Remaining Count').barh(0)"
   ]
  },
  {
   "cell_type": "markdown",
   "metadata": {},
   "source": [
    "## Probability\n",
    "\n",
    "20-30 mins"
   ]
  },
  {
   "cell_type": "markdown",
   "metadata": {},
   "source": [
    "#### Tickets\n",
    "\n",
    "Red Green Blue\n",
    "\n",
    "What's the chance of GR when sampling two cards without replacement\n",
    "\n",
    "RB RG BR BG GR GB\n",
    "\n",
    "P(GR) = 1/6\n",
    "\n",
    "P(one R and one G) = P(GR) + P(RG) = 1/6 + 1/6\n"
   ]
  },
  {
   "cell_type": "markdown",
   "metadata": {},
   "source": [
    "## Sampling\n",
    "\n",
    "30-40 mins"
   ]
  },
  {
   "cell_type": "code",
   "execution_count": null,
   "metadata": {},
   "outputs": [],
   "source": [
    "top = Table.read_table('http://inferentialthinking.com/notebooks/top_movies.csv')\n",
    "top = top.with_column('Row Index', np.arange(top.num_rows)).move_to_start('Row Index')\n",
    "top"
   ]
  },
  {
   "cell_type": "code",
   "execution_count": null,
   "metadata": {},
   "outputs": [],
   "source": [
    "top.take([3, 5, 7])"
   ]
  },
  {
   "cell_type": "code",
   "execution_count": null,
   "metadata": {},
   "outputs": [],
   "source": [
    "top.where('Title', are.containing('and the'))"
   ]
  },
  {
   "cell_type": "code",
   "execution_count": null,
   "metadata": {},
   "outputs": [],
   "source": [
    "start = np.random.choice(np.arange(10))\n",
    "top.take(np.arange(start, 200, 10))"
   ]
  },
  {
   "cell_type": "code",
   "execution_count": null,
   "metadata": {},
   "outputs": [],
   "source": [
    "top.sample(5)"
   ]
  },
  {
   "cell_type": "code",
   "execution_count": null,
   "metadata": {},
   "outputs": [],
   "source": [
    "top.sample(5, with_replacement=False)"
   ]
  },
  {
   "cell_type": "markdown",
   "metadata": {},
   "source": [
    "## Dice\n",
    "\n",
    "40-50 mins"
   ]
  },
  {
   "cell_type": "code",
   "execution_count": null,
   "metadata": {},
   "outputs": [],
   "source": [
    "die = Table().with_column('face', np.arange(6)+1)\n",
    "die"
   ]
  },
  {
   "cell_type": "code",
   "execution_count": null,
   "metadata": {},
   "outputs": [],
   "source": [
    "def face_hist(t):\n",
    "    t.hist('face', bins=np.arange(0.5, 7, 1), unit='face')\n",
    "    plt.xlabel('Face')\n",
    "    \n",
    "face_hist(die)"
   ]
  },
  {
   "cell_type": "code",
   "execution_count": null,
   "metadata": {},
   "outputs": [],
   "source": [
    "face_hist(die.sample(10))"
   ]
  },
  {
   "cell_type": "code",
   "execution_count": null,
   "metadata": {
    "collapsed": true
   },
   "outputs": [],
   "source": []
  },
  {
   "cell_type": "code",
   "execution_count": null,
   "metadata": {
    "collapsed": true
   },
   "outputs": [],
   "source": []
  },
  {
   "cell_type": "code",
   "execution_count": null,
   "metadata": {
    "collapsed": true
   },
   "outputs": [],
   "source": []
  },
  {
   "cell_type": "code",
   "execution_count": null,
   "metadata": {
    "collapsed": true
   },
   "outputs": [],
   "source": []
  },
  {
   "cell_type": "code",
   "execution_count": null,
   "metadata": {
    "collapsed": true
   },
   "outputs": [],
   "source": []
  },
  {
   "cell_type": "code",
   "execution_count": null,
   "metadata": {
    "collapsed": true
   },
   "outputs": [],
   "source": []
  },
  {
   "cell_type": "code",
   "execution_count": null,
   "metadata": {
    "collapsed": true
   },
   "outputs": [],
   "source": []
  },
  {
   "cell_type": "markdown",
   "metadata": {},
   "source": [
    "## Flights"
   ]
  },
  {
   "cell_type": "code",
   "execution_count": null,
   "metadata": {},
   "outputs": [],
   "source": [
    "united = Table.read_table('http://inferentialthinking.com/notebooks/united_summer2015.csv')\n",
    "united"
   ]
  },
  {
   "cell_type": "code",
   "execution_count": null,
   "metadata": {},
   "outputs": [],
   "source": [
    "united.hist('Delay')"
   ]
  },
  {
   "cell_type": "code",
   "execution_count": null,
   "metadata": {},
   "outputs": [],
   "source": [
    "def delay_hist(t):\n",
    "    t.hist('Delay', unit='minute', bins=np.arange(-20, 301, 10))\n",
    "    \n",
    "delay_hist(united)"
   ]
  },
  {
   "cell_type": "code",
   "execution_count": null,
   "metadata": {},
   "outputs": [],
   "source": [
    "united.where('Delay', are.between(10, 20)).num_rows / united.num_rows"
   ]
  },
  {
   "cell_type": "code",
   "execution_count": null,
   "metadata": {},
   "outputs": [],
   "source": [
    "s = united.sample(1000)\n",
    "delay_hist(s)"
   ]
  },
  {
   "cell_type": "code",
   "execution_count": null,
   "metadata": {},
   "outputs": [],
   "source": [
    "s.where('Delay', are.between(10, 20)).num_rows / s.num_rows"
   ]
  },
  {
   "cell_type": "markdown",
   "metadata": {},
   "source": [
    "## Monty Hall"
   ]
  },
  {
   "cell_type": "code",
   "execution_count": null,
   "metadata": {},
   "outputs": [],
   "source": [
    "doors = make_array(1, 2, 3)\n",
    "prizes = make_array('car', 'first goat', 'second goat')\n",
    "\n",
    "def setup():\n",
    "    \"\"\"Return a random game of Let's Make a Deal.\"\"\"\n",
    "    return Table().with_columns(\n",
    "        'Door', doors,\n",
    "        'Prize', np.random.choice(prizes, 3, replace=False))\n",
    "\n",
    "def behind(game, door):\n",
    "    \"\"\"Return the prize behind a door.\"\"\"\n",
    "    return game.where('Door', door).column('Prize').item(0)\n",
    "\n",
    "def location(game, prize):\n",
    "    \"\"\"Return the door that hides a prize.\"\"\"\n",
    "    return game.where('Prize', prize).column('Door').item(0)\n",
    "\n",
    "def expose(game, guess):\n",
    "    \"\"\"Return the door that Monty Hall opens to expose a goat.\"\"\"\n",
    "    guessed_prize = behind(game, guess)\n",
    "    if guessed_prize == 'first goat':\n",
    "        reveal = 'second goat'\n",
    "    elif guessed_prize == 'second goat':\n",
    "        reveal = 'first goat'\n",
    "    else:\n",
    "        reveal = np.random.choice(['first goat', 'second goat'])\n",
    "    return location(game, reveal)\n",
    "\n",
    "def other(game, guess, exposed):\n",
    "    \"\"\"Return the door that is not the guess or the exposed.\"\"\"\n",
    "    return (1 + 2 + 3) - guess - exposed\n",
    "\n",
    "trials = Table(['trial', 'guess', 'exposed', 'remaining'])\n",
    "for i in np.arange(10000)+1:\n",
    "    game = setup()\n",
    "    guess = np.random.choice(doors)\n",
    "    exposed = expose(game, guess)\n",
    "    remaining = other(game, guess, exposed)\n",
    "    trials.append([i, behind(game, guess), behind(game, exposed), behind(game, remaining)])\n",
    "    \n",
    "trials"
   ]
  },
  {
   "cell_type": "code",
   "execution_count": null,
   "metadata": {},
   "outputs": [],
   "source": [
    "counts = trials.group(['guess', 'exposed', 'remaining'])\n",
    "counts"
   ]
  },
  {
   "cell_type": "code",
   "execution_count": null,
   "metadata": {},
   "outputs": [],
   "source": [
    "counts.set_format('count', DistributionFormatter)"
   ]
  },
  {
   "cell_type": "code",
   "execution_count": null,
   "metadata": {},
   "outputs": [],
   "source": [
    "outcomes = counts.drop('count')\n",
    "outcomes"
   ]
  },
  {
   "cell_type": "code",
   "execution_count": null,
   "metadata": {},
   "outputs": [],
   "source": [
    "chances = make_array(\n",
    "    1/3 * 1/2, \n",
    "    1/3 * 1/2, \n",
    "    1/3 * 1,\n",
    "    1/3 * 1\n",
    ")\n",
    "distribution = outcomes.with_column('chance', chances)\n",
    "distribution.set_format('chance', PercentFormatter)"
   ]
  },
  {
   "cell_type": "code",
   "execution_count": null,
   "metadata": {},
   "outputs": [],
   "source": [
    "samples = outcomes.sample(10000, weights=chances)\n",
    "samples"
   ]
  },
  {
   "cell_type": "code",
   "execution_count": null,
   "metadata": {},
   "outputs": [],
   "source": [
    "samples.group(['guess', 'exposed', 'remaining'])"
   ]
  },
  {
   "cell_type": "markdown",
   "metadata": {},
   "source": [
    "Roll a die 4 times. What's P(at least one 6)."
   ]
  },
  {
   "cell_type": "code",
   "execution_count": null,
   "metadata": {},
   "outputs": [],
   "source": [
    "1 - (5/6) ** 4"
   ]
  },
  {
   "cell_type": "code",
   "execution_count": null,
   "metadata": {},
   "outputs": [],
   "source": [
    "rolls = np.arange(1, 51, 1)\n",
    "at_least_one = Table().with_columns(\n",
    "    'Rolls', rolls,\n",
    "    'Chance of at least one 6', 1 - (5/6)**rolls\n",
    ")\n",
    "at_least_one.set_format(1, PercentFormatter(3))"
   ]
  },
  {
   "cell_type": "code",
   "execution_count": null,
   "metadata": {},
   "outputs": [],
   "source": [
    "at_least_one.scatter('Rolls')"
   ]
  },
  {
   "cell_type": "code",
   "execution_count": null,
   "metadata": {},
   "outputs": [],
   "source": [
    "at_least_one.where('Rolls', 20)"
   ]
  },
  {
   "cell_type": "code",
   "execution_count": null,
   "metadata": {},
   "outputs": [],
   "source": [
    "rolls = np.random.choice(np.arange(6)+1, 20)\n",
    "rolls"
   ]
  },
  {
   "cell_type": "code",
   "execution_count": null,
   "metadata": {},
   "outputs": [],
   "source": [
    "np.count_nonzero(rolls==6)"
   ]
  },
  {
   "cell_type": "code",
   "execution_count": null,
   "metadata": {},
   "outputs": [],
   "source": [
    "trials = 1000\n",
    "successes = 0\n",
    "\n",
    "for i in np.arange(trials):\n",
    "    rolls = np.random.choice(np.arange(6)+1, 20)\n",
    "    if np.count_nonzero(rolls==6) > 0:\n",
    "        successes = successes + 1\n",
    "\n",
    "successes/trials"
   ]
  },
  {
   "cell_type": "code",
   "execution_count": null,
   "metadata": {},
   "outputs": [],
   "source": [
    "def roll_20():\n",
    "    trials = 1000\n",
    "    successes = 0\n",
    "\n",
    "    for i in np.arange(trials):\n",
    "        rolls = np.random.choice(np.arange(6)+1, 20)\n",
    "        if np.count_nonzero(rolls==6) > 0:\n",
    "            successes = successes + 1\n",
    "\n",
    "    return successes/trials\n",
    "\n",
    "estimates = Table(['estimate'])\n",
    "for k in np.arange(1000):\n",
    "    estimates.append([roll_20()])\n",
    "\n",
    "estimates.hist(normed=False)"
   ]
  },
  {
   "cell_type": "code",
   "execution_count": null,
   "metadata": {},
   "outputs": [],
   "source": [
    "np.average(estimates.column(0))"
   ]
  }
 ],
 "metadata": {
  "kernelspec": {
   "display_name": "Python [default]",
   "language": "python",
   "name": "python3"
  },
  "language_info": {
   "codemirror_mode": {
    "name": "ipython",
    "version": 3
   },
   "file_extension": ".py",
   "mimetype": "text/x-python",
   "name": "python",
   "nbconvert_exporter": "python",
   "pygments_lexer": "ipython3",
   "version": "3.5.2"
  }
 },
 "nbformat": 4,
 "nbformat_minor": 2
}
