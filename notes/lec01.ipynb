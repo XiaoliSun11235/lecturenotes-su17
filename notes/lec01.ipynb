{
 "cells": [
  {
   "cell_type": "markdown",
   "metadata": {},
   "source": [
    "# Lecture 1"
   ]
  },
  {
   "cell_type": "markdown",
   "metadata": {},
   "source": [
    "## Welcome to Data 8!\n",
    "\n",
    "0-3 mins\n"
   ]
  },
  {
   "cell_type": "markdown",
   "metadata": {},
   "source": [
    "## Announcements\n",
    "\n",
    "3-5 mins\n",
    "\n",
    "- We plan on letting everyone on the waitlist into the class. We're waiting to hear back from administration but will let you know ASAP.\n",
    "- No office hours will be held Mon. June 19 or Tues. June 20. OH will begin as scheduled on Thursday and Friday this week.\n",
    "- Please join Piazza for course discussion: https://piazza.com/class/j3i0qrx59qw1a5"
   ]
  },
  {
   "cell_type": "markdown",
   "metadata": {},
   "source": [
    "## What is Data Science?\n",
    "\n",
    "5-10 mins"
   ]
  },
  {
   "cell_type": "markdown",
   "metadata": {},
   "source": [
    "## Connector Courses \n",
    "\n",
    "10-15 mins"
   ]
  },
  {
   "cell_type": "markdown",
   "metadata": {},
   "source": [
    "## Parts of Data 8\n",
    "\n",
    "15-20 mins"
   ]
  },
  {
   "cell_type": "markdown",
   "metadata": {},
   "source": [
    "## Policies\n",
    "\n",
    "20-25 mins"
   ]
  },
  {
   "cell_type": "markdown",
   "metadata": {},
   "source": [
    "## Collaboration\n",
    "\n",
    "25-30 mins"
   ]
  },
  {
   "cell_type": "markdown",
   "metadata": {},
   "source": [
    "## Demo\n",
    "\n",
    "Rest of time (30-50 mins)"
   ]
  },
  {
   "cell_type": "markdown",
   "metadata": {},
   "source": [
    "This is a Jupyter notebook.\n",
    "\n",
    "They let you write code and run it, displaying the result in the same webpage.\n",
    "\n",
    "Every notebook starts out with cryptic stuff that you don't need to know."
   ]
  },
  {
   "cell_type": "code",
   "execution_count": 4,
   "metadata": {
    "collapsed": true
   },
   "outputs": [],
   "source": [
    "from datascience import *\n",
    "import numpy as np\n",
    "%matplotlib inline\n",
    "import matplotlib.pyplot as plots\n",
    "plots.style.use('fivethirtyeight')\n",
    "import warnings\n",
    "warnings.simplefilter(action=\"ignore\", category=FutureWarning)\n",
    "\n",
    "from ipywidgets import interact, interactive, fixed, interact_manual\n",
    "import ipywidgets as widgets\n",
    "\n",
    "from urllib.request import urlopen \n",
    "import re\n",
    "def read_url(url): \n",
    "    return re.sub('\\\\s+', ' ', urlopen(url).read().decode())"
   ]
  },
  {
   "cell_type": "markdown",
   "metadata": {},
   "source": [
    "We're going to be looking at the text of Little Women.\n",
    "\n",
    "> Open the url and show the text structure.\n",
    "\n",
    "We could read the book ourselves, but it'll take a while. Let's ask the computer to read it instead."
   ]
  },
  {
   "cell_type": "code",
   "execution_count": 5,
   "metadata": {
    "collapsed": true
   },
   "outputs": [],
   "source": [
    "little_women_url = 'http://data8.org/data8assets/lec/little_women.txt'\n",
    "little_women_text = read_url(little_women_url)\n",
    "chapters = little_women_text.split('CHAPTER ')[1:]"
   ]
  },
  {
   "cell_type": "code",
   "execution_count": 10,
   "metadata": {
    "scrolled": true
   },
   "outputs": [
    {
     "data": {
      "text/html": [
       "<table border=\"1\" class=\"dataframe\">\n",
       "    <thead>\n",
       "        <tr>\n",
       "            <th>Text</th>\n",
       "        </tr>\n",
       "    </thead>\n",
       "    <tbody>\n",
       "        <tr>\n",
       "            <td>ONE PLAYING PILGRIMS \"Christmas won't be Christmas witho ...</td>\n",
       "        </tr>\n",
       "    </tbody>\n",
       "        <tr>\n",
       "            <td>TWO A MERRY CHRISTMAS Jo was the first to wake in the gr ...</td>\n",
       "        </tr>\n",
       "    </tbody>\n",
       "        <tr>\n",
       "            <td>THREE THE LAURENCE BOY \"Jo! Jo! Where are you?\" cried Me ...</td>\n",
       "        </tr>\n",
       "    </tbody>\n",
       "        <tr>\n",
       "            <td>FOUR BURDENS \"Oh, dear, how hard it does seem to take up ...</td>\n",
       "        </tr>\n",
       "    </tbody>\n",
       "        <tr>\n",
       "            <td>FIVE BEING NEIGHBORLY \"What in the world are you going t ...</td>\n",
       "        </tr>\n",
       "    </tbody>\n",
       "        <tr>\n",
       "            <td>SIX BETH FINDS THE PALACE BEAUTIFUL The big house did pr ...</td>\n",
       "        </tr>\n",
       "    </tbody>\n",
       "        <tr>\n",
       "            <td>SEVEN AMY'S VALLEY OF HUMILIATION \"That boy is a perfect ...</td>\n",
       "        </tr>\n",
       "    </tbody>\n",
       "        <tr>\n",
       "            <td>EIGHT JO MEETS APOLLYON \"Girls, where are you going?\" as ...</td>\n",
       "        </tr>\n",
       "    </tbody>\n",
       "        <tr>\n",
       "            <td>NINE MEG GOES TO VANITY FAIR \"I do think it was the most ...</td>\n",
       "        </tr>\n",
       "    </tbody>\n",
       "        <tr>\n",
       "            <td>TEN THE P.C. AND P.O. As spring came on, a new set of am ...</td>\n",
       "        </tr>\n",
       "    </tbody>\n",
       "</table>\n",
       "<p>... (37 rows omitted)</p"
      ],
      "text/plain": [
       "Text\n",
       "ONE PLAYING PILGRIMS \"Christmas won't be Christmas witho ...\n",
       "TWO A MERRY CHRISTMAS Jo was the first to wake in the gr ...\n",
       "THREE THE LAURENCE BOY \"Jo! Jo! Where are you?\" cried Me ...\n",
       "FOUR BURDENS \"Oh, dear, how hard it does seem to take up ...\n",
       "FIVE BEING NEIGHBORLY \"What in the world are you going t ...\n",
       "SIX BETH FINDS THE PALACE BEAUTIFUL The big house did pr ...\n",
       "SEVEN AMY'S VALLEY OF HUMILIATION \"That boy is a perfect ...\n",
       "EIGHT JO MEETS APOLLYON \"Girls, where are you going?\" as ...\n",
       "NINE MEG GOES TO VANITY FAIR \"I do think it was the most ...\n",
       "TEN THE P.C. AND P.O. As spring came on, a new set of am ...\n",
       "... (37 rows omitted)"
      ]
     },
     "execution_count": 10,
     "metadata": {},
     "output_type": "execute_result"
    }
   ],
   "source": [
    "Table().with_columns('Text', chapters)"
   ]
  },
  {
   "cell_type": "markdown",
   "metadata": {},
   "source": [
    "Now, let's count how many times the word Christmas appears:\n",
    "\n",
    "> Incrementally add code until you get to plot"
   ]
  },
  {
   "cell_type": "code",
   "execution_count": 11,
   "metadata": {},
   "outputs": [
    {
     "data": {
      "text/plain": [
       "array([8, 9, 1, 1, 1, 0, 0, 0, 0, 0, 0, 0, 0, 0, 0, 0, 0, 0, 0, 0, 0, 8, 0,\n",
       "       0, 0, 0, 0, 0, 0, 0, 0, 0, 2, 0, 0, 0, 6, 0, 0, 0, 1, 0, 0, 0, 0, 0,\n",
       "       0])"
      ]
     },
     "execution_count": 11,
     "metadata": {},
     "output_type": "execute_result"
    }
   ],
   "source": [
    "np.char.count(chapters, 'Christmas')"
   ]
  },
  {
   "cell_type": "markdown",
   "metadata": {},
   "source": [
    "The book had 4 sisters, let's count how many times they appeared.\n",
    "\n",
    "> Explain plot."
   ]
  },
  {
   "cell_type": "code",
   "execution_count": 9,
   "metadata": {},
   "outputs": [
    {
     "data": {
      "image/png": "[encoded data removed]",
      "text/plain": [
       "<matplotlib.figure.Figure at 0x103f188d0>"
      ]
     },
     "metadata": {},
     "output_type": "display_data"
    }
   ],
   "source": [
    "Table().with_columns([\n",
    "    \"Jo\",   np.char.count(chapters, \"Jo\"),\n",
    "    \"Meg\",  np.char.count(chapters, \"Meg\"),\n",
    "    \"Amy\",  np.char.count(chapters, \"Amy\"),\n",
    "    \"Beth\", np.char.count(chapters, \"Beth\"),\n",
    "]).cumsum().plot(overlay=True)"
   ]
  },
  {
   "cell_type": "markdown",
   "metadata": {},
   "source": [
    "It's not hard to see how many times another person is mentioned.\n",
    "\n",
    "It turns out that I'm an important character in Little Women (not).\n",
    "\n",
    "But Laurie is..."
   ]
  },
  {
   "cell_type": "code",
   "execution_count": 12,
   "metadata": {},
   "outputs": [
    {
     "data": {
      "application/vnd.jupyter.widget-view+json": {
       "model_id": "81e3fd0db2a84383ac7be2f02ea00333"
      }
     },
     "metadata": {},
     "output_type": "display_data"
    }
   ],
   "source": [
    "def plot_custom(name):\n",
    "    Table().with_columns([\n",
    "        \"Jo\",   np.char.count(chapters, \"Jo\"),\n",
    "        \"Meg\",  np.char.count(chapters, \"Meg\"),\n",
    "        \"Amy\",  np.char.count(chapters, \"Amy\"),\n",
    "        \"Beth\", np.char.count(chapters, \"Beth\"),\n",
    "        name, np.char.count(chapters, name)\n",
    "    ]).cumsum().plot(overlay=True)\n",
    "    plots.show()\n",
    "\n",
    "_ = interact_manual(plot_custom, name='Sam')"
   ]
  },
  {
   "cell_type": "markdown",
   "metadata": {},
   "source": [
    "If time allows, show this plot."
   ]
  },
  {
   "cell_type": "code",
   "execution_count": 8,
   "metadata": {},
   "outputs": [
    {
     "data": {
      "image/png": "[encoded data removed]",
      "text/plain": [
       "<matplotlib.figure.Figure at 0x101ac25f8>"
      ]
     },
     "metadata": {},
     "output_type": "display_data"
    }
   ],
   "source": [
    "Table().with_columns([\n",
    "        \"Characters\", [len(c) for c in chapters],\n",
    "        \"Periods\", np.char.count(chapters, \".\"),\n",
    "    ]).scatter('Periods')"
   ]
  },
  {
   "cell_type": "code",
   "execution_count": null,
   "metadata": {
    "collapsed": true
   },
   "outputs": [],
   "source": []
  }
 ],
 "metadata": {
  "anaconda-cloud": {},
  "kernelspec": {
   "display_name": "Python [default]",
   "language": "python",
   "name": "python3"
  },
  "language_info": {
   "codemirror_mode": {
    "name": "ipython",
    "version": 3
   },
   "file_extension": ".py",
   "mimetype": "text/x-python",
   "name": "python",
   "nbconvert_exporter": "python",
   "pygments_lexer": "ipython3",
   "version": "3.5.2"
  }
 },
 "nbformat": 4,
 "nbformat_minor": 2
}
