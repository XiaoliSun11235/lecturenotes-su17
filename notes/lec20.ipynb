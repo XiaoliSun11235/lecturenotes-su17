{
 "cells": [
  {
   "cell_type": "code",
   "execution_count": 6,
   "metadata": {},
   "outputs": [],
   "source": [
    "from datascience import *\n",
    "import numpy as np\n",
    "\n",
    "import matplotlib.pyplot as plt\n",
    "plt.style.use('fivethirtyeight')\n",
    "%matplotlib inline\n",
    "\n",
    "from ipywidgets import interact, interactive, fixed, interact_manual\n",
    "import ipywidgets as widgets"
   ]
  },
  {
   "cell_type": "markdown",
   "metadata": {},
   "source": [
    "## Review\n",
    "\n",
    "0-10 mins"
   ]
  },
  {
   "cell_type": "markdown",
   "metadata": {},
   "source": [
    "## Test Statistics\n",
    "\n",
    "10-25 mins"
   ]
  },
  {
   "cell_type": "markdown",
   "metadata": {},
   "source": [
    "## Pea Flowers\n",
    "\n",
    "25-50 mins"
   ]
  },
  {
   "cell_type": "code",
   "execution_count": 17,
   "metadata": {},
   "outputs": [
    {
     "data": {
      "text/plain": [
       "0.008880516684607098"
      ]
     },
     "execution_count": 17,
     "metadata": {},
     "output_type": "execute_result"
    }
   ],
   "source": [
    "null = make_array('Purple', 'Purple', 'Purple', 'White')\n",
    "\n",
    "def test_stat(sample):\n",
    "    proportion_purple = np.count_nonzero(sample == 'Purple') / len(sample)\n",
    "    return abs(proportion_purple - 0.75)\n",
    "\n",
    "total_plants = 929\n",
    "purples = 705\n",
    "observed_statistic = abs(purples / total_plants - 0.75) # 705 were Purple\n",
    "observed_statistic"
   ]
  },
  {
   "cell_type": "code",
   "execution_count": 4,
   "metadata": {
    "collapsed": true
   },
   "outputs": [],
   "source": [
    "# Simulating the test statistic under the null hypothesis\n",
    "repetitions = 5000\n",
    "sampled_stats = make_array()\n",
    "\n",
    "for i in np.arange(repetitions):\n",
    "    new_sample = np.random.choice(null, total_plants)\n",
    "    sampled_stats = np.append(sampled_stats, test_stat(new_sample))"
   ]
  },
  {
   "cell_type": "code",
   "execution_count": 5,
   "metadata": {},
   "outputs": [
    {
     "data": {
      "image/png": "[encoded data removed]",
      "text/plain": [
       "<matplotlib.figure.Figure at 0x104b74128>"
      ]
     },
     "metadata": {},
     "output_type": "display_data"
    }
   ],
   "source": [
    "null_dist = Table().with_column('Distribution of the test statistic under the null hypothesis', sampled_stats)\n",
    "null_dist.hist()\n",
    "_ = plt.plot([observed_statistic, observed_statistic], [0, 60])"
   ]
  },
  {
   "cell_type": "code",
   "execution_count": 7,
   "metadata": {},
   "outputs": [
    {
     "data": {
      "text/plain": [
       "0.5502"
      ]
     },
     "execution_count": 7,
     "metadata": {},
     "output_type": "execute_result"
    }
   ],
   "source": [
    "# The P-value (an approximation based on the simulation)\n",
    "np.count_nonzero(sampled_stats >= observed_statistic)/repetitions"
   ]
  },
  {
   "cell_type": "markdown",
   "metadata": {
    "collapsed": true
   },
   "source": [
    "## Discussion Question: What Happens If...\n",
    "\n",
    "I remove the absolute value from the test statistic?"
   ]
  },
  {
   "cell_type": "code",
   "execution_count": 31,
   "metadata": {
    "collapsed": true
   },
   "outputs": [],
   "source": [
    "def test_stat(sample):\n",
    "    prop_purple = (np.count_nonzero(sample == 'Purple')\n",
    "                   / len(sample)\n",
    "                   - 0.75)\n",
    "    return prop_purple"
   ]
  },
  {
   "cell_type": "code",
   "execution_count": 32,
   "metadata": {},
   "outputs": [
    {
     "data": {
      "image/png": "[encoded data removed]",
      "text/plain": [
       "<matplotlib.figure.Figure at 0x1182204e0>"
      ]
     },
     "metadata": {},
     "output_type": "display_data"
    }
   ],
   "source": [
    "repetitions = 5000\n",
    "sample_stats = make_array()\n",
    "\n",
    "for i in np.arange(repetitions):\n",
    "    stat = test_stat(np.random.choice(null, total_plants))\n",
    "    sample_stats = np.append(sample_stats, stat)\n",
    "    \n",
    "null_dist = Table().with_columns('Null distribution', sample_stats)\n",
    "null_dist.hist()\n",
    "_ = plt.plot([observed_statistic, observed_statistic], [0, 60])"
   ]
  },
  {
   "cell_type": "code",
   "execution_count": 33,
   "metadata": {},
   "outputs": [
    {
     "data": {
      "text/plain": [
       "0.292"
      ]
     },
     "execution_count": 33,
     "metadata": {},
     "output_type": "execute_result"
    }
   ],
   "source": [
    "# compute the p-value\n",
    "np.count_nonzero(sample_stats >= observed_statistic) / len(sample_stats)\n",
    "\n",
    "# the previous p-value was around 0.55. Why is it different this time?"
   ]
  },
  {
   "cell_type": "markdown",
   "metadata": {},
   "source": [
    "Take attendance before answering.\n",
    "\n",
    "This test statistic is for a different alternative hypothesis! This is the alternative hypothesis: \"The proportion of purple flowers is greater than 0.75.\""
   ]
  },
  {
   "cell_type": "markdown",
   "metadata": {},
   "source": [
    "## More questions\n",
    "\n",
    "What if my test statistic is:"
   ]
  },
  {
   "cell_type": "code",
   "execution_count": 25,
   "metadata": {
    "collapsed": true
   },
   "outputs": [],
   "source": [
    "def test_stat(sample):\n",
    "    prop_purple = (np.count_nonzero(sample == 'Purple')\n",
    "                   / len(sample))\n",
    "                      # - 0.75)\n",
    "    return prop_purple"
   ]
  },
  {
   "cell_type": "code",
   "execution_count": 26,
   "metadata": {},
   "outputs": [
    {
     "data": {
      "image/png": "[encoded data removed]",
      "text/plain": [
       "<matplotlib.figure.Figure at 0x103e0d240>"
      ]
     },
     "metadata": {},
     "output_type": "display_data"
    }
   ],
   "source": [
    "repetitions = 5000\n",
    "sample_stats = make_array()\n",
    "\n",
    "for i in np.arange(repetitions):\n",
    "    stat = test_stat(np.random.choice(null, total_plants))\n",
    "    sample_stats = np.append(sample_stats, stat)\n",
    "    \n",
    "null_dist = Table().with_columns('Null distribution', sample_stats)\n",
    "null_dist.hist()\n",
    "_ = plt.plot([observed_statistic, observed_statistic], [0, 60])"
   ]
  },
  {
   "cell_type": "markdown",
   "metadata": {},
   "source": [
    "What's wrong here? Let's try again:"
   ]
  },
  {
   "cell_type": "code",
   "execution_count": 27,
   "metadata": {
    "scrolled": true
   },
   "outputs": [
    {
     "data": {
      "image/png": "[encoded data removed]",
      "text/plain": [
       "<matplotlib.figure.Figure at 0x115069cf8>"
      ]
     },
     "metadata": {},
     "output_type": "display_data"
    }
   ],
   "source": [
    "null_dist.hist()\n",
    "_ = plt.plot([purples / total_plants, purples / total_plants], [0, 60])"
   ]
  },
  {
   "cell_type": "code",
   "execution_count": 29,
   "metadata": {},
   "outputs": [
    {
     "data": {
      "text/plain": [
       "0.2786"
      ]
     },
     "execution_count": 29,
     "metadata": {},
     "output_type": "execute_result"
    }
   ],
   "source": [
    "np.count_nonzero(sample_stats >= purples / total_plants) / len(sample_stats)"
   ]
  },
  {
   "cell_type": "code",
   "execution_count": null,
   "metadata": {
    "collapsed": true
   },
   "outputs": [],
   "source": []
  },
  {
   "cell_type": "code",
   "execution_count": null,
   "metadata": {
    "collapsed": true
   },
   "outputs": [],
   "source": []
  },
  {
   "cell_type": "code",
   "execution_count": null,
   "metadata": {
    "collapsed": true
   },
   "outputs": [],
   "source": []
  },
  {
   "cell_type": "code",
   "execution_count": null,
   "metadata": {
    "collapsed": true
   },
   "outputs": [],
   "source": []
  },
  {
   "cell_type": "code",
   "execution_count": null,
   "metadata": {
    "collapsed": true
   },
   "outputs": [],
   "source": []
  },
  {
   "cell_type": "markdown",
   "metadata": {},
   "source": [
    "## Deflategate (for another lecture)"
   ]
  },
  {
   "cell_type": "code",
   "execution_count": null,
   "metadata": {},
   "outputs": [],
   "source": [
    "football = Table.read_table('http://inferentialthinking.com/notebooks/football.csv')\n",
    "football = football.drop('Team')\n",
    "football.show()"
   ]
  },
  {
   "cell_type": "code",
   "execution_count": null,
   "metadata": {},
   "outputs": [],
   "source": [
    "initials = np.append(np.ones(11) * 12.5, np.ones(4) * 13)\n",
    "averages = (football.column(1)+football.column(2))/2\n",
    "football = football.with_column(\n",
    "    'Team', np.char.strip(football.column('Ball'), [' 1234567890']),\n",
    "    'Average at Half', averages,\n",
    "    'Estimate at Start', initials,\n",
    "    'Drop', initials - averages\n",
    ")\n",
    "football.show()"
   ]
  },
  {
   "cell_type": "code",
   "execution_count": null,
   "metadata": {},
   "outputs": [],
   "source": [
    "def difference_in_average_drop(t):\n",
    "    averages = t.select('Team', 'Drop').group('Team', np.average).column(1)\n",
    "    return averages.item(1) - averages.item(0)\n",
    "\n",
    "observed = difference_in_average_drop(football)\n",
    "observed"
   ]
  },
  {
   "cell_type": "code",
   "execution_count": null,
   "metadata": {},
   "outputs": [],
   "source": [
    "shuffled = football.select('Drop').sample(15, with_replacement=False)\n",
    "football.select('Team').with_column('Drop', shuffled.column(0))"
   ]
  },
  {
   "cell_type": "code",
   "execution_count": null,
   "metadata": {
    "collapsed": true
   },
   "outputs": [],
   "source": [
    "sampled_stats = make_array()\n",
    "\n",
    "for i in np.arange(10000):\n",
    "    shuffled = football.select('Drop').sample(15, with_replacement=False)\n",
    "    sample = football.select('Team').with_column('Drop', shuffled.column(0))    \n",
    "    sampled_stats = np.append(sampled_stats, difference_in_average_drop(sample))"
   ]
  },
  {
   "cell_type": "code",
   "execution_count": null,
   "metadata": {},
   "outputs": [],
   "source": [
    "Table().with_column('Null distribution', sampled_stats).hist()\n",
    "_ = plt.plot([observed, observed], [0, 1.4])"
   ]
  },
  {
   "cell_type": "code",
   "execution_count": null,
   "metadata": {},
   "outputs": [],
   "source": [
    "np.count_nonzero(sampled_stats >= observed)/len(sampled_stats)"
   ]
  }
 ],
 "metadata": {
  "kernelspec": {
   "display_name": "Python [default]",
   "language": "python",
   "name": "python3"
  },
  "language_info": {
   "codemirror_mode": {
    "name": "ipython",
    "version": 3
   },
   "file_extension": ".py",
   "mimetype": "text/x-python",
   "name": "python",
   "nbconvert_exporter": "python",
   "pygments_lexer": "ipython3",
   "version": "3.5.2"
  }
 },
 "nbformat": 4,
 "nbformat_minor": 2
}
